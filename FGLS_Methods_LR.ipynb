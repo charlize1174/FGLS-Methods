{
 "cells": [
  {
   "cell_type": "markdown",
   "id": "4be9f7f6",
   "metadata": {},
   "source": [
    "<h1 style=\"text-align: center; color: teal;\" markdown=\"1\">Correcting Heteroskedasticity in Regression Models: Data Transformations and FGLS Methods\n",
    "</h1>\n",
    "\n",
    "\n",
    "<h2 style=\"text-align: center; color: #012169\" markdown=\"1\">Charlize Samuels</h2>"
   ]
  },
  {
   "cell_type": "markdown",
   "id": "b6dc61dc",
   "metadata": {},
   "source": [
    "## <div class=\"alert alert-success\">Importing the Data</div>"
   ]
  },
  {
   "cell_type": "markdown",
   "id": "f229388b",
   "metadata": {},
   "source": [
    "This is an arbitrary data set that was strategically structured to illuminate the value of performing transformations for FGLS."
   ]
  },
  {
   "cell_type": "code",
   "execution_count": 1,
   "id": "3397f8dc",
   "metadata": {},
   "outputs": [],
   "source": [
    "import numpy as np \n",
    "import pandas as pd\n",
    "import seaborn as sns\n",
    "import matplotlib.pyplot as plt\n",
    "import statsmodels.formula.api as smf\n",
    "import statsmodels.stats.api as sms\n",
    "import statsmodels.api as sm\n",
    "import patsy as pt\n",
    "from stargazer.stargazer import Stargazer\n",
    "from IPython.core.display import HTML\n",
    "from statsmodels.compat import lzip"
   ]
  },
  {
   "cell_type": "code",
   "execution_count": 2,
   "id": "428d1027",
   "metadata": {},
   "outputs": [
    {
     "data": {
      "text/html": [
       "<div>\n",
       "<style scoped>\n",
       "    .dataframe tbody tr th:only-of-type {\n",
       "        vertical-align: middle;\n",
       "    }\n",
       "\n",
       "    .dataframe tbody tr th {\n",
       "        vertical-align: top;\n",
       "    }\n",
       "\n",
       "    .dataframe thead th {\n",
       "        text-align: right;\n",
       "    }\n",
       "</style>\n",
       "<table border=\"1\" class=\"dataframe\">\n",
       "  <thead>\n",
       "    <tr style=\"text-align: right;\">\n",
       "      <th></th>\n",
       "      <th>Y</th>\n",
       "      <th>X1</th>\n",
       "      <th>X2</th>\n",
       "    </tr>\n",
       "  </thead>\n",
       "  <tbody>\n",
       "    <tr>\n",
       "      <th>0</th>\n",
       "      <td>11.404406</td>\n",
       "      <td>4.674510</td>\n",
       "      <td>1.944484</td>\n",
       "    </tr>\n",
       "    <tr>\n",
       "      <th>1</th>\n",
       "      <td>21.327162</td>\n",
       "      <td>4.414127</td>\n",
       "      <td>1.692914</td>\n",
       "    </tr>\n",
       "    <tr>\n",
       "      <th>2</th>\n",
       "      <td>15.885338</td>\n",
       "      <td>4.536565</td>\n",
       "      <td>0.059003</td>\n",
       "    </tr>\n",
       "    <tr>\n",
       "      <th>3</th>\n",
       "      <td>19.178205</td>\n",
       "      <td>4.243829</td>\n",
       "      <td>1.780704</td>\n",
       "    </tr>\n",
       "    <tr>\n",
       "      <th>4</th>\n",
       "      <td>13.889365</td>\n",
       "      <td>4.775771</td>\n",
       "      <td>1.307222</td>\n",
       "    </tr>\n",
       "  </tbody>\n",
       "</table>\n",
       "</div>"
      ],
      "text/plain": [
       "           Y        X1        X2\n",
       "0  11.404406  4.674510  1.944484\n",
       "1  21.327162  4.414127  1.692914\n",
       "2  15.885338  4.536565  0.059003\n",
       "3  19.178205  4.243829  1.780704\n",
       "4  13.889365  4.775771  1.307222"
      ]
     },
     "execution_count": 2,
     "metadata": {},
     "output_type": "execute_result"
    }
   ],
   "source": [
    "data = pd.read_excel('/Users/charlizesamuels/Downloads/dataset4.xlsx')\n",
    "data.head()"
   ]
  },
  {
   "cell_type": "markdown",
   "id": "a7cfde3b",
   "metadata": {},
   "source": [
    "## <div class=\"alert alert-info\">1. Test For Heteroskedasticity</div>"
   ]
  },
  {
   "cell_type": "markdown",
   "id": "027b22a0",
   "metadata": {},
   "source": [
    "First, fit an OLS model to the data. Use this model to estimate the residuals, which will be used to diagnose heteroskedasticity"
   ]
  },
  {
   "cell_type": "markdown",
   "id": "007b08f3",
   "metadata": {},
   "source": [
    "#### Regression Results"
   ]
  },
  {
   "cell_type": "markdown",
   "id": "0e4fe6d8",
   "metadata": {},
   "source": [
    "The table below shows the raw output of Y regressed on X1 and X2."
   ]
  },
  {
   "cell_type": "code",
   "execution_count": 4,
   "id": "4a323b1d",
   "metadata": {},
   "outputs": [
    {
     "data": {
      "text/html": [
       "<table class=\"simpletable\">\n",
       "<caption>OLS Regression Results</caption>\n",
       "<tr>\n",
       "  <th>Dep. Variable:</th>            <td>Y</td>        <th>  R-squared:         </th> <td>   0.030</td>\n",
       "</tr>\n",
       "<tr>\n",
       "  <th>Model:</th>                   <td>OLS</td>       <th>  Adj. R-squared:    </th> <td>   0.028</td>\n",
       "</tr>\n",
       "<tr>\n",
       "  <th>Method:</th>             <td>Least Squares</td>  <th>  F-statistic:       </th> <td>   15.48</td>\n",
       "</tr>\n",
       "<tr>\n",
       "  <th>Date:</th>             <td>Wed, 19 Apr 2023</td> <th>  Prob (F-statistic):</th> <td>2.39e-07</td>\n",
       "</tr>\n",
       "<tr>\n",
       "  <th>Time:</th>                 <td>16:17:32</td>     <th>  Log-Likelihood:    </th> <td> -2751.6</td>\n",
       "</tr>\n",
       "<tr>\n",
       "  <th>No. Observations:</th>      <td>  1000</td>      <th>  AIC:               </th> <td>   5509.</td>\n",
       "</tr>\n",
       "<tr>\n",
       "  <th>Df Residuals:</th>          <td>   997</td>      <th>  BIC:               </th> <td>   5524.</td>\n",
       "</tr>\n",
       "<tr>\n",
       "  <th>Df Model:</th>              <td>     2</td>      <th>                     </th>     <td> </td>   \n",
       "</tr>\n",
       "<tr>\n",
       "  <th>Covariance Type:</th>      <td>nonrobust</td>    <th>                     </th>     <td> </td>   \n",
       "</tr>\n",
       "</table>\n",
       "<table class=\"simpletable\">\n",
       "<tr>\n",
       "      <td></td>         <th>coef</th>     <th>std err</th>      <th>t</th>      <th>P>|t|</th>  <th>[0.025</th>    <th>0.975]</th>  \n",
       "</tr>\n",
       "<tr>\n",
       "  <th>Intercept</th> <td>    4.8071</td> <td>    2.024</td> <td>    2.375</td> <td> 0.018</td> <td>    0.835</td> <td>    8.779</td>\n",
       "</tr>\n",
       "<tr>\n",
       "  <th>X1</th>        <td>    2.3923</td> <td>    0.473</td> <td>    5.063</td> <td> 0.000</td> <td>    1.465</td> <td>    3.320</td>\n",
       "</tr>\n",
       "<tr>\n",
       "  <th>X2</th>        <td>   -1.0768</td> <td>    0.240</td> <td>   -4.496</td> <td> 0.000</td> <td>   -1.547</td> <td>   -0.607</td>\n",
       "</tr>\n",
       "</table>\n",
       "<table class=\"simpletable\">\n",
       "<tr>\n",
       "  <th>Omnibus:</th>       <td>235.897</td> <th>  Durbin-Watson:     </th> <td>   2.064</td>\n",
       "</tr>\n",
       "<tr>\n",
       "  <th>Prob(Omnibus):</th> <td> 0.000</td>  <th>  Jarque-Bera (JB):  </th> <td>3790.925</td>\n",
       "</tr>\n",
       "<tr>\n",
       "  <th>Skew:</th>          <td>-0.620</td>  <th>  Prob(JB):          </th> <td>    0.00</td>\n",
       "</tr>\n",
       "<tr>\n",
       "  <th>Kurtosis:</th>      <td>12.458</td>  <th>  Cond. No.          </th> <td>    82.2</td>\n",
       "</tr>\n",
       "</table><br/><br/>Notes:<br/>[1] Standard Errors assume that the covariance matrix of the errors is correctly specified."
      ],
      "text/plain": [
       "<class 'statsmodels.iolib.summary.Summary'>\n",
       "\"\"\"\n",
       "                            OLS Regression Results                            \n",
       "==============================================================================\n",
       "Dep. Variable:                      Y   R-squared:                       0.030\n",
       "Model:                            OLS   Adj. R-squared:                  0.028\n",
       "Method:                 Least Squares   F-statistic:                     15.48\n",
       "Date:                Wed, 19 Apr 2023   Prob (F-statistic):           2.39e-07\n",
       "Time:                        16:17:32   Log-Likelihood:                -2751.6\n",
       "No. Observations:                1000   AIC:                             5509.\n",
       "Df Residuals:                     997   BIC:                             5524.\n",
       "Df Model:                           2                                         \n",
       "Covariance Type:            nonrobust                                         \n",
       "==============================================================================\n",
       "                 coef    std err          t      P>|t|      [0.025      0.975]\n",
       "------------------------------------------------------------------------------\n",
       "Intercept      4.8071      2.024      2.375      0.018       0.835       8.779\n",
       "X1             2.3923      0.473      5.063      0.000       1.465       3.320\n",
       "X2            -1.0768      0.240     -4.496      0.000      -1.547      -0.607\n",
       "==============================================================================\n",
       "Omnibus:                      235.897   Durbin-Watson:                   2.064\n",
       "Prob(Omnibus):                  0.000   Jarque-Bera (JB):             3790.925\n",
       "Skew:                          -0.620   Prob(JB):                         0.00\n",
       "Kurtosis:                      12.458   Cond. No.                         82.2\n",
       "==============================================================================\n",
       "\n",
       "Notes:\n",
       "[1] Standard Errors assume that the covariance matrix of the errors is correctly specified.\n",
       "\"\"\""
      ]
     },
     "execution_count": 4,
     "metadata": {},
     "output_type": "execute_result"
    }
   ],
   "source": [
    "results = smf.ols(formula = 'Y ~ X1 + X2', data = data).fit()\n",
    "results.summary()"
   ]
  },
  {
   "cell_type": "markdown",
   "id": "9ffe88c5",
   "metadata": {},
   "source": [
    "The intercept and beta coefficients are listed below:"
   ]
  },
  {
   "cell_type": "code",
   "execution_count": 5,
   "id": "3342e1a4",
   "metadata": {},
   "outputs": [
    {
     "data": {
      "text/plain": [
       "Intercept    4.807091\n",
       "X1           2.392331\n",
       "X2          -1.076823\n",
       "dtype: float64"
      ]
     },
     "execution_count": 5,
     "metadata": {},
     "output_type": "execute_result"
    }
   ],
   "source": [
    "betas = results.params\n",
    "betas"
   ]
  },
  {
   "cell_type": "markdown",
   "id": "8f671450",
   "metadata": {},
   "source": [
    "#### 95% Confidence Interval"
   ]
  },
  {
   "cell_type": "markdown",
   "id": "75acf7ea",
   "metadata": {},
   "source": [
    "The below table lists the confidence intervals for in the intercept, X1, and X2.\n",
    "\n",
    "0 and 1 represent the lower and upper ends of the 95% confidence intervals, respectively."
   ]
  },
  {
   "cell_type": "code",
   "execution_count": 6,
   "id": "72cf1e28",
   "metadata": {},
   "outputs": [
    {
     "data": {
      "text/html": [
       "<div>\n",
       "<style scoped>\n",
       "    .dataframe tbody tr th:only-of-type {\n",
       "        vertical-align: middle;\n",
       "    }\n",
       "\n",
       "    .dataframe tbody tr th {\n",
       "        vertical-align: top;\n",
       "    }\n",
       "\n",
       "    .dataframe thead th {\n",
       "        text-align: right;\n",
       "    }\n",
       "</style>\n",
       "<table border=\"1\" class=\"dataframe\">\n",
       "  <thead>\n",
       "    <tr style=\"text-align: right;\">\n",
       "      <th></th>\n",
       "      <th>0</th>\n",
       "      <th>1</th>\n",
       "    </tr>\n",
       "  </thead>\n",
       "  <tbody>\n",
       "    <tr>\n",
       "      <th>Intercept</th>\n",
       "      <td>0.834900</td>\n",
       "      <td>8.779282</td>\n",
       "    </tr>\n",
       "    <tr>\n",
       "      <th>X1</th>\n",
       "      <td>1.465105</td>\n",
       "      <td>3.319557</td>\n",
       "    </tr>\n",
       "    <tr>\n",
       "      <th>X2</th>\n",
       "      <td>-1.546845</td>\n",
       "      <td>-0.606802</td>\n",
       "    </tr>\n",
       "  </tbody>\n",
       "</table>\n",
       "</div>"
      ],
      "text/plain": [
       "                  0         1\n",
       "Intercept  0.834900  8.779282\n",
       "X1         1.465105  3.319557\n",
       "X2        -1.546845 -0.606802"
      ]
     },
     "execution_count": 6,
     "metadata": {},
     "output_type": "execute_result"
    }
   ],
   "source": [
    "confidence = results.conf_int(alpha=0.05, cols=None)\n",
    "confidence"
   ]
  },
  {
   "cell_type": "markdown",
   "id": "39fcf7a0",
   "metadata": {},
   "source": [
    "#### Breusch-Pagan Tests for Heteroskedasticity"
   ]
  },
  {
   "cell_type": "markdown",
   "id": "379ecb71",
   "metadata": {},
   "source": [
    "The below table lists the LM and F statistics with their respective p-values."
   ]
  },
  {
   "cell_type": "code",
   "execution_count": 7,
   "id": "e6af51e1",
   "metadata": {},
   "outputs": [
    {
     "data": {
      "text/html": [
       "<div>\n",
       "<style scoped>\n",
       "    .dataframe tbody tr th:only-of-type {\n",
       "        vertical-align: middle;\n",
       "    }\n",
       "\n",
       "    .dataframe tbody tr th {\n",
       "        vertical-align: top;\n",
       "    }\n",
       "\n",
       "    .dataframe thead th {\n",
       "        text-align: right;\n",
       "    }\n",
       "</style>\n",
       "<table border=\"1\" class=\"dataframe\">\n",
       "  <thead>\n",
       "    <tr style=\"text-align: right;\">\n",
       "      <th></th>\n",
       "      <th>0</th>\n",
       "      <th>1</th>\n",
       "    </tr>\n",
       "  </thead>\n",
       "  <tbody>\n",
       "    <tr>\n",
       "      <th>0</th>\n",
       "      <td>Lagrange Multiplier Statistic</td>\n",
       "      <td>1.282890e+02</td>\n",
       "    </tr>\n",
       "    <tr>\n",
       "      <th>1</th>\n",
       "      <td>LM p-value</td>\n",
       "      <td>1.387994e-28</td>\n",
       "    </tr>\n",
       "    <tr>\n",
       "      <th>2</th>\n",
       "      <td>F-stat</td>\n",
       "      <td>7.336387e+01</td>\n",
       "    </tr>\n",
       "    <tr>\n",
       "      <th>3</th>\n",
       "      <td>F-test p-value</td>\n",
       "      <td>1.886657e-30</td>\n",
       "    </tr>\n",
       "  </tbody>\n",
       "</table>\n",
       "</div>"
      ],
      "text/plain": [
       "                               0             1\n",
       "0  Lagrange Multiplier Statistic  1.282890e+02\n",
       "1                     LM p-value  1.387994e-28\n",
       "2                         F-stat  7.336387e+01\n",
       "3                 F-test p-value  1.886657e-30"
      ]
     },
     "execution_count": 7,
     "metadata": {},
     "output_type": "execute_result"
    }
   ],
   "source": [
    "test = sms.het_breuschpagan(results.resid, results.model.exog)\n",
    "name = ['Lagrange Multiplier Statistic','LM p-value','F-stat','F-test p-value']\n",
    "pd.DataFrame(lzip(name,test))"
   ]
  },
  {
   "cell_type": "markdown",
   "id": "1d59f824",
   "metadata": {},
   "source": [
    "The low p-values for both the LM statistic and F-test suggest that we fail to reject the null hypothesis that we have homoskedastic errors. This indicates that heteroskedasticity is present.\n",
    "\n",
    "Because heteroskedasticity is present, one should opt to use robust standard errors that are resistant to heteroskedasticity."
   ]
  },
  {
   "cell_type": "markdown",
   "id": "64b65c76",
   "metadata": {},
   "source": [
    "## <div class=\"alert alert-info\">2. Feasible Generalized Least Squares</div>"
   ]
  },
  {
   "cell_type": "markdown",
   "id": "05f167bd",
   "metadata": {},
   "source": [
    "In regression analysis, heteroskedasticity occurs when the variance of the residuals is not constant across observations, leading to inefficient estimates and unreliable statistical inferences. When this heteroskedasticity follows an exponential pattern, a common approach is to model the variance using the log of the squared residuals. First, we compute the squared residuals from our initial regression and then regress the log and square root of these squared residuals on the independent variables. This helps us estimate the relationship between the predictors and the variance structure. The fitted values from this regression represent the variance, which we exponentiate to obtain weights (h). These weights are used to transform both the dependent variable and the independent variables, effectively normalizing the variance across observations. After applying this transformation, a new regression is performed without a constant. The result is a more efficient model that corrects for the previously observed heteroskedasticity, leading to more accurate estimates of the coefficients and better confidence intervals. This process is critical for ensuring that the regression results are both valid and reliable when dealing with non-constant variance in the data."
   ]
  },
  {
   "cell_type": "markdown",
   "id": "3cc1f49d",
   "metadata": {},
   "source": [
    "#### Obtain squared residuals"
   ]
  },
  {
   "cell_type": "code",
   "execution_count": 8,
   "id": "ae515ef4",
   "metadata": {},
   "outputs": [],
   "source": [
    "residuals = results.resid\n",
    "residuals_squared = np.square(residuals)"
   ]
  },
  {
   "cell_type": "code",
   "execution_count": 9,
   "id": "4fbb739d",
   "metadata": {},
   "outputs": [],
   "source": [
    "data['residuals_squared'] = residuals_squared"
   ]
  },
  {
   "cell_type": "code",
   "execution_count": 10,
   "id": "2c5123c8",
   "metadata": {},
   "outputs": [
    {
     "data": {
      "text/html": [
       "<div>\n",
       "<style scoped>\n",
       "    .dataframe tbody tr th:only-of-type {\n",
       "        vertical-align: middle;\n",
       "    }\n",
       "\n",
       "    .dataframe tbody tr th {\n",
       "        vertical-align: top;\n",
       "    }\n",
       "\n",
       "    .dataframe thead th {\n",
       "        text-align: right;\n",
       "    }\n",
       "</style>\n",
       "<table border=\"1\" class=\"dataframe\">\n",
       "  <thead>\n",
       "    <tr style=\"text-align: right;\">\n",
       "      <th></th>\n",
       "      <th>Y</th>\n",
       "      <th>X1</th>\n",
       "      <th>X2</th>\n",
       "      <th>residuals_squared</th>\n",
       "    </tr>\n",
       "  </thead>\n",
       "  <tbody>\n",
       "    <tr>\n",
       "      <th>0</th>\n",
       "      <td>11.404406</td>\n",
       "      <td>4.674510</td>\n",
       "      <td>1.944484</td>\n",
       "      <td>6.209030</td>\n",
       "    </tr>\n",
       "    <tr>\n",
       "      <th>1</th>\n",
       "      <td>21.327162</td>\n",
       "      <td>4.414127</td>\n",
       "      <td>1.692914</td>\n",
       "      <td>60.574919</td>\n",
       "    </tr>\n",
       "    <tr>\n",
       "      <th>2</th>\n",
       "      <td>15.885338</td>\n",
       "      <td>4.536565</td>\n",
       "      <td>0.059003</td>\n",
       "      <td>0.083415</td>\n",
       "    </tr>\n",
       "    <tr>\n",
       "      <th>3</th>\n",
       "      <td>19.178205</td>\n",
       "      <td>4.243829</td>\n",
       "      <td>1.780704</td>\n",
       "      <td>37.650177</td>\n",
       "    </tr>\n",
       "    <tr>\n",
       "      <th>4</th>\n",
       "      <td>13.889365</td>\n",
       "      <td>4.775771</td>\n",
       "      <td>1.307222</td>\n",
       "      <td>0.874793</td>\n",
       "    </tr>\n",
       "  </tbody>\n",
       "</table>\n",
       "</div>"
      ],
      "text/plain": [
       "           Y        X1        X2  residuals_squared\n",
       "0  11.404406  4.674510  1.944484           6.209030\n",
       "1  21.327162  4.414127  1.692914          60.574919\n",
       "2  15.885338  4.536565  0.059003           0.083415\n",
       "3  19.178205  4.243829  1.780704          37.650177\n",
       "4  13.889365  4.775771  1.307222           0.874793"
      ]
     },
     "execution_count": 10,
     "metadata": {},
     "output_type": "execute_result"
    }
   ],
   "source": [
    "data.head()"
   ]
  },
  {
   "cell_type": "markdown",
   "id": "d0038fdf",
   "metadata": {},
   "source": [
    "#### <div class=\"alert alert-warning\">Correcting Exponential Heteroskedasticity</div>"
   ]
  },
  {
   "cell_type": "markdown",
   "id": "ee82554a",
   "metadata": {},
   "source": [
    "#### Regress log of squared residuals on X1 and X2"
   ]
  },
  {
   "cell_type": "code",
   "execution_count": 11,
   "id": "207ba0a9",
   "metadata": {
    "scrolled": false
   },
   "outputs": [
    {
     "data": {
      "text/html": [
       "<table class=\"simpletable\">\n",
       "<caption>OLS Regression Results</caption>\n",
       "<tr>\n",
       "  <th>Dep. Variable:</th>    <td>np.log(residuals_squared)</td> <th>  R-squared:         </th> <td>   0.472</td> \n",
       "</tr>\n",
       "<tr>\n",
       "  <th>Model:</th>                       <td>OLS</td>            <th>  Adj. R-squared:    </th> <td>   0.471</td> \n",
       "</tr>\n",
       "<tr>\n",
       "  <th>Method:</th>                 <td>Least Squares</td>       <th>  F-statistic:       </th> <td>   445.7</td> \n",
       "</tr>\n",
       "<tr>\n",
       "  <th>Date:</th>                 <td>Wed, 19 Apr 2023</td>      <th>  Prob (F-statistic):</th> <td>5.15e-139</td>\n",
       "</tr>\n",
       "<tr>\n",
       "  <th>Time:</th>                     <td>16:17:32</td>          <th>  Log-Likelihood:    </th> <td> -2207.1</td> \n",
       "</tr>\n",
       "<tr>\n",
       "  <th>No. Observations:</th>          <td>  1000</td>           <th>  AIC:               </th> <td>   4420.</td> \n",
       "</tr>\n",
       "<tr>\n",
       "  <th>Df Residuals:</th>              <td>   997</td>           <th>  BIC:               </th> <td>   4435.</td> \n",
       "</tr>\n",
       "<tr>\n",
       "  <th>Df Model:</th>                  <td>     2</td>           <th>                     </th>     <td> </td>    \n",
       "</tr>\n",
       "<tr>\n",
       "  <th>Covariance Type:</th>          <td>nonrobust</td>         <th>                     </th>     <td> </td>    \n",
       "</tr>\n",
       "</table>\n",
       "<table class=\"simpletable\">\n",
       "<tr>\n",
       "      <td></td>         <th>coef</th>     <th>std err</th>      <th>t</th>      <th>P>|t|</th>  <th>[0.025</th>    <th>0.975]</th>  \n",
       "</tr>\n",
       "<tr>\n",
       "  <th>Intercept</th> <td>   -2.7541</td> <td>    1.174</td> <td>   -2.345</td> <td> 0.019</td> <td>   -5.059</td> <td>   -0.450</td>\n",
       "</tr>\n",
       "<tr>\n",
       "  <th>X1</th>        <td>   -0.2934</td> <td>    0.274</td> <td>   -1.070</td> <td> 0.285</td> <td>   -0.831</td> <td>    0.245</td>\n",
       "</tr>\n",
       "<tr>\n",
       "  <th>X2</th>        <td>    3.6863</td> <td>    0.139</td> <td>   26.527</td> <td> 0.000</td> <td>    3.414</td> <td>    3.959</td>\n",
       "</tr>\n",
       "</table>\n",
       "<table class=\"simpletable\">\n",
       "<tr>\n",
       "  <th>Omnibus:</th>       <td>248.646</td> <th>  Durbin-Watson:     </th> <td>   1.941</td> \n",
       "</tr>\n",
       "<tr>\n",
       "  <th>Prob(Omnibus):</th> <td> 0.000</td>  <th>  Jarque-Bera (JB):  </th> <td> 582.220</td> \n",
       "</tr>\n",
       "<tr>\n",
       "  <th>Skew:</th>          <td>-1.336</td>  <th>  Prob(JB):          </th> <td>3.74e-127</td>\n",
       "</tr>\n",
       "<tr>\n",
       "  <th>Kurtosis:</th>      <td> 5.614</td>  <th>  Cond. No.          </th> <td>    82.2</td> \n",
       "</tr>\n",
       "</table><br/><br/>Notes:<br/>[1] Standard Errors assume that the covariance matrix of the errors is correctly specified."
      ],
      "text/plain": [
       "<class 'statsmodels.iolib.summary.Summary'>\n",
       "\"\"\"\n",
       "                                OLS Regression Results                               \n",
       "=====================================================================================\n",
       "Dep. Variable:     np.log(residuals_squared)   R-squared:                       0.472\n",
       "Model:                                   OLS   Adj. R-squared:                  0.471\n",
       "Method:                        Least Squares   F-statistic:                     445.7\n",
       "Date:                       Wed, 19 Apr 2023   Prob (F-statistic):          5.15e-139\n",
       "Time:                               16:17:32   Log-Likelihood:                -2207.1\n",
       "No. Observations:                       1000   AIC:                             4420.\n",
       "Df Residuals:                            997   BIC:                             4435.\n",
       "Df Model:                                  2                                         \n",
       "Covariance Type:                   nonrobust                                         \n",
       "==============================================================================\n",
       "                 coef    std err          t      P>|t|      [0.025      0.975]\n",
       "------------------------------------------------------------------------------\n",
       "Intercept     -2.7541      1.174     -2.345      0.019      -5.059      -0.450\n",
       "X1            -0.2934      0.274     -1.070      0.285      -0.831       0.245\n",
       "X2             3.6863      0.139     26.527      0.000       3.414       3.959\n",
       "==============================================================================\n",
       "Omnibus:                      248.646   Durbin-Watson:                   1.941\n",
       "Prob(Omnibus):                  0.000   Jarque-Bera (JB):              582.220\n",
       "Skew:                          -1.336   Prob(JB):                    3.74e-127\n",
       "Kurtosis:                       5.614   Cond. No.                         82.2\n",
       "==============================================================================\n",
       "\n",
       "Notes:\n",
       "[1] Standard Errors assume that the covariance matrix of the errors is correctly specified.\n",
       "\"\"\""
      ]
     },
     "execution_count": 11,
     "metadata": {},
     "output_type": "execute_result"
    }
   ],
   "source": [
    "results2 = smf.ols(formula = 'np.log(residuals_squared) ~ X1 + X2', data = data).fit()\n",
    "results2.summary()"
   ]
  },
  {
   "cell_type": "markdown",
   "id": "38a82b82",
   "metadata": {},
   "source": [
    "#### Exponentiate fitted values to obtain h and define new data with \"weights\"\n",
    "- ${y_h}$ = ${Y}$ / $\\sqrt{h}$\n",
    "- ${x_0h}$ = ${1}$ / $\\sqrt{h}$\n",
    "- ${x_1h}$ = ${X1}$ / $\\sqrt{h}$\n",
    "- ${x_2h}$ = ${X2}$ / $\\sqrt{h}$\n",
    "\n",
    "where ${h}$ = ${exp(log(u_i^2))}$"
   ]
  },
  {
   "cell_type": "code",
   "execution_count": 12,
   "id": "f124025f",
   "metadata": {},
   "outputs": [
    {
     "data": {
      "text/html": [
       "<div>\n",
       "<style scoped>\n",
       "    .dataframe tbody tr th:only-of-type {\n",
       "        vertical-align: middle;\n",
       "    }\n",
       "\n",
       "    .dataframe tbody tr th {\n",
       "        vertical-align: top;\n",
       "    }\n",
       "\n",
       "    .dataframe thead th {\n",
       "        text-align: right;\n",
       "    }\n",
       "</style>\n",
       "<table border=\"1\" class=\"dataframe\">\n",
       "  <thead>\n",
       "    <tr style=\"text-align: right;\">\n",
       "      <th></th>\n",
       "      <th>Y</th>\n",
       "      <th>X1</th>\n",
       "      <th>X2</th>\n",
       "      <th>residuals_squared</th>\n",
       "      <th>y_h</th>\n",
       "      <th>x0_h</th>\n",
       "      <th>x1_h</th>\n",
       "      <th>x2_h</th>\n",
       "    </tr>\n",
       "  </thead>\n",
       "  <tbody>\n",
       "    <tr>\n",
       "      <th>0</th>\n",
       "      <td>11.404406</td>\n",
       "      <td>4.674510</td>\n",
       "      <td>1.944484</td>\n",
       "      <td>6.209030</td>\n",
       "      <td>2.491130</td>\n",
       "      <td>0.218436</td>\n",
       "      <td>1.021080</td>\n",
       "      <td>0.424745</td>\n",
       "    </tr>\n",
       "    <tr>\n",
       "      <th>1</th>\n",
       "      <td>21.327162</td>\n",
       "      <td>4.414127</td>\n",
       "      <td>1.692914</td>\n",
       "      <td>60.574919</td>\n",
       "      <td>7.129237</td>\n",
       "      <td>0.334280</td>\n",
       "      <td>1.475553</td>\n",
       "      <td>0.565907</td>\n",
       "    </tr>\n",
       "    <tr>\n",
       "      <th>2</th>\n",
       "      <td>15.885338</td>\n",
       "      <td>4.536565</td>\n",
       "      <td>0.059003</td>\n",
       "      <td>0.083415</td>\n",
       "      <td>109.848385</td>\n",
       "      <td>6.915080</td>\n",
       "      <td>31.370712</td>\n",
       "      <td>0.408008</td>\n",
       "    </tr>\n",
       "    <tr>\n",
       "      <th>3</th>\n",
       "      <td>19.178205</td>\n",
       "      <td>4.243829</td>\n",
       "      <td>1.780704</td>\n",
       "      <td>37.650177</td>\n",
       "      <td>5.318588</td>\n",
       "      <td>0.277325</td>\n",
       "      <td>1.176918</td>\n",
       "      <td>0.493833</td>\n",
       "    </tr>\n",
       "    <tr>\n",
       "      <th>4</th>\n",
       "      <td>13.889365</td>\n",
       "      <td>4.775771</td>\n",
       "      <td>1.307222</td>\n",
       "      <td>0.874793</td>\n",
       "      <td>9.966965</td>\n",
       "      <td>0.717597</td>\n",
       "      <td>3.427079</td>\n",
       "      <td>0.938058</td>\n",
       "    </tr>\n",
       "  </tbody>\n",
       "</table>\n",
       "</div>"
      ],
      "text/plain": [
       "           Y        X1        X2  residuals_squared         y_h      x0_h  \\\n",
       "0  11.404406  4.674510  1.944484           6.209030    2.491130  0.218436   \n",
       "1  21.327162  4.414127  1.692914          60.574919    7.129237  0.334280   \n",
       "2  15.885338  4.536565  0.059003           0.083415  109.848385  6.915080   \n",
       "3  19.178205  4.243829  1.780704          37.650177    5.318588  0.277325   \n",
       "4  13.889365  4.775771  1.307222           0.874793    9.966965  0.717597   \n",
       "\n",
       "        x1_h      x2_h  \n",
       "0   1.021080  0.424745  \n",
       "1   1.475553  0.565907  \n",
       "2  31.370712  0.408008  \n",
       "3   1.176918  0.493833  \n",
       "4   3.427079  0.938058  "
      ]
     },
     "execution_count": 12,
     "metadata": {},
     "output_type": "execute_result"
    }
   ],
   "source": [
    "h = np.exp(results2.fittedvalues)\n",
    "root_h = np.sqrt(h)\n",
    "data['y_h'] = np.divide(data['Y'],root_h)\n",
    "data['x0_h'] = np.divide(1,root_h)\n",
    "data['x1_h']= np.divide(data['X1'],root_h)\n",
    "data['x2_h']= np.divide(data['X2'],root_h)\n",
    "data.head()"
   ]
  },
  {
   "cell_type": "markdown",
   "id": "51cc3f28",
   "metadata": {},
   "source": [
    "#### Estimate new regression without a constant"
   ]
  },
  {
   "cell_type": "code",
   "execution_count": 13,
   "id": "a8fcc7a9",
   "metadata": {},
   "outputs": [
    {
     "data": {
      "text/html": [
       "<table class=\"simpletable\">\n",
       "<caption>OLS Regression Results</caption>\n",
       "<tr>\n",
       "  <th>Dep. Variable:</th>           <td>y_h</td>       <th>  R-squared (uncentered):</th>      <td>   0.998</td> \n",
       "</tr>\n",
       "<tr>\n",
       "  <th>Model:</th>                   <td>OLS</td>       <th>  Adj. R-squared (uncentered):</th> <td>   0.998</td> \n",
       "</tr>\n",
       "<tr>\n",
       "  <th>Method:</th>             <td>Least Squares</td>  <th>  F-statistic:       </th>          <td>1.610e+05</td>\n",
       "</tr>\n",
       "<tr>\n",
       "  <th>Date:</th>             <td>Wed, 19 Apr 2023</td> <th>  Prob (F-statistic):</th>           <td>  0.00</td>  \n",
       "</tr>\n",
       "<tr>\n",
       "  <th>Time:</th>                 <td>16:17:32</td>     <th>  Log-Likelihood:    </th>          <td> -2009.2</td> \n",
       "</tr>\n",
       "<tr>\n",
       "  <th>No. Observations:</th>      <td>  1000</td>      <th>  AIC:               </th>          <td>   4024.</td> \n",
       "</tr>\n",
       "<tr>\n",
       "  <th>Df Residuals:</th>          <td>   997</td>      <th>  BIC:               </th>          <td>   4039.</td> \n",
       "</tr>\n",
       "<tr>\n",
       "  <th>Df Model:</th>              <td>     3</td>      <th>                     </th>              <td> </td>    \n",
       "</tr>\n",
       "<tr>\n",
       "  <th>Covariance Type:</th>      <td>nonrobust</td>    <th>                     </th>              <td> </td>    \n",
       "</tr>\n",
       "</table>\n",
       "<table class=\"simpletable\">\n",
       "<tr>\n",
       "    <td></td>      <th>coef</th>     <th>std err</th>      <th>t</th>      <th>P>|t|</th>  <th>[0.025</th>    <th>0.975]</th>  \n",
       "</tr>\n",
       "<tr>\n",
       "  <th>x0_h</th> <td>    1.9036</td> <td>    0.375</td> <td>    5.070</td> <td> 0.000</td> <td>    1.167</td> <td>    2.640</td>\n",
       "</tr>\n",
       "<tr>\n",
       "  <th>x1_h</th> <td>    3.0251</td> <td>    0.088</td> <td>   34.339</td> <td> 0.000</td> <td>    2.852</td> <td>    3.198</td>\n",
       "</tr>\n",
       "<tr>\n",
       "  <th>x2_h</th> <td>   -0.9439</td> <td>    0.081</td> <td>  -11.691</td> <td> 0.000</td> <td>   -1.102</td> <td>   -0.785</td>\n",
       "</tr>\n",
       "</table>\n",
       "<table class=\"simpletable\">\n",
       "<tr>\n",
       "  <th>Omnibus:</th>       <td> 0.736</td> <th>  Durbin-Watson:     </th> <td>   2.159</td>\n",
       "</tr>\n",
       "<tr>\n",
       "  <th>Prob(Omnibus):</th> <td> 0.692</td> <th>  Jarque-Bera (JB):  </th> <td>   0.607</td>\n",
       "</tr>\n",
       "<tr>\n",
       "  <th>Skew:</th>          <td> 0.009</td> <th>  Prob(JB):          </th> <td>   0.738</td>\n",
       "</tr>\n",
       "<tr>\n",
       "  <th>Kurtosis:</th>      <td> 3.119</td> <th>  Cond. No.          </th> <td>    81.1</td>\n",
       "</tr>\n",
       "</table><br/><br/>Notes:<br/>[1] R² is computed without centering (uncentered) since the model does not contain a constant.<br/>[2] Standard Errors assume that the covariance matrix of the errors is correctly specified."
      ],
      "text/plain": [
       "<class 'statsmodels.iolib.summary.Summary'>\n",
       "\"\"\"\n",
       "                                 OLS Regression Results                                \n",
       "=======================================================================================\n",
       "Dep. Variable:                    y_h   R-squared (uncentered):                   0.998\n",
       "Model:                            OLS   Adj. R-squared (uncentered):              0.998\n",
       "Method:                 Least Squares   F-statistic:                          1.610e+05\n",
       "Date:                Wed, 19 Apr 2023   Prob (F-statistic):                        0.00\n",
       "Time:                        16:17:32   Log-Likelihood:                         -2009.2\n",
       "No. Observations:                1000   AIC:                                      4024.\n",
       "Df Residuals:                     997   BIC:                                      4039.\n",
       "Df Model:                           3                                                  \n",
       "Covariance Type:            nonrobust                                                  \n",
       "==============================================================================\n",
       "                 coef    std err          t      P>|t|      [0.025      0.975]\n",
       "------------------------------------------------------------------------------\n",
       "x0_h           1.9036      0.375      5.070      0.000       1.167       2.640\n",
       "x1_h           3.0251      0.088     34.339      0.000       2.852       3.198\n",
       "x2_h          -0.9439      0.081    -11.691      0.000      -1.102      -0.785\n",
       "==============================================================================\n",
       "Omnibus:                        0.736   Durbin-Watson:                   2.159\n",
       "Prob(Omnibus):                  0.692   Jarque-Bera (JB):                0.607\n",
       "Skew:                           0.009   Prob(JB):                        0.738\n",
       "Kurtosis:                       3.119   Cond. No.                         81.1\n",
       "==============================================================================\n",
       "\n",
       "Notes:\n",
       "[1] R² is computed without centering (uncentered) since the model does not contain a constant.\n",
       "[2] Standard Errors assume that the covariance matrix of the errors is correctly specified.\n",
       "\"\"\""
      ]
     },
     "execution_count": 13,
     "metadata": {},
     "output_type": "execute_result"
    }
   ],
   "source": [
    "results4 =  smf.ols(formula = 'y_h ~ x0_h + x1_h + x2_h - 1', data = data).fit()\n",
    "results4.summary()"
   ]
  },
  {
   "cell_type": "markdown",
   "id": "40b05da0",
   "metadata": {},
   "source": [
    "#### 95% confidence interval\n",
    "\n",
    "The below table lists the confidence intervals for the beta coefficients for ${x_0h}$, ${x_1h}$, and ${x_2h}$.\n",
    "\n",
    "0 and 1 represent the lower and upper ends of the 95% confidence intervals, respectively."
   ]
  },
  {
   "cell_type": "code",
   "execution_count": 14,
   "id": "b2d6570e",
   "metadata": {
    "scrolled": true
   },
   "outputs": [
    {
     "data": {
      "text/html": [
       "<div>\n",
       "<style scoped>\n",
       "    .dataframe tbody tr th:only-of-type {\n",
       "        vertical-align: middle;\n",
       "    }\n",
       "\n",
       "    .dataframe tbody tr th {\n",
       "        vertical-align: top;\n",
       "    }\n",
       "\n",
       "    .dataframe thead th {\n",
       "        text-align: right;\n",
       "    }\n",
       "</style>\n",
       "<table border=\"1\" class=\"dataframe\">\n",
       "  <thead>\n",
       "    <tr style=\"text-align: right;\">\n",
       "      <th></th>\n",
       "      <th>0</th>\n",
       "      <th>1</th>\n",
       "    </tr>\n",
       "  </thead>\n",
       "  <tbody>\n",
       "    <tr>\n",
       "      <th>x0_h</th>\n",
       "      <td>1.166813</td>\n",
       "      <td>2.640397</td>\n",
       "    </tr>\n",
       "    <tr>\n",
       "      <th>x1_h</th>\n",
       "      <td>2.852258</td>\n",
       "      <td>3.198009</td>\n",
       "    </tr>\n",
       "    <tr>\n",
       "      <th>x2_h</th>\n",
       "      <td>-1.102284</td>\n",
       "      <td>-0.785432</td>\n",
       "    </tr>\n",
       "  </tbody>\n",
       "</table>\n",
       "</div>"
      ],
      "text/plain": [
       "             0         1\n",
       "x0_h  1.166813  2.640397\n",
       "x1_h  2.852258  3.198009\n",
       "x2_h -1.102284 -0.785432"
      ]
     },
     "execution_count": 14,
     "metadata": {},
     "output_type": "execute_result"
    }
   ],
   "source": [
    "results4.conf_int(alpha=0.05, cols=None)"
   ]
  },
  {
   "cell_type": "markdown",
   "id": "6d2c7dc4",
   "metadata": {},
   "source": [
    "#### <div class=\"alert alert-warning\">Correcting Square Heteroskedasticity</div>"
   ]
  },
  {
   "cell_type": "markdown",
   "id": "fa14f964",
   "metadata": {},
   "source": [
    "#### Regress root of squared residuals on X1 and X2"
   ]
  },
  {
   "cell_type": "code",
   "execution_count": 15,
   "id": "e570b2b3",
   "metadata": {
    "scrolled": false
   },
   "outputs": [
    {
     "data": {
      "text/html": [
       "<table class=\"simpletable\">\n",
       "<caption>OLS Regression Results</caption>\n",
       "<tr>\n",
       "  <th>Dep. Variable:</th>    <td>np.sqrt(residuals_squared)</td> <th>  R-squared:         </th> <td>   0.366</td>\n",
       "</tr>\n",
       "<tr>\n",
       "  <th>Model:</th>                        <td>OLS</td>            <th>  Adj. R-squared:    </th> <td>   0.364</td>\n",
       "</tr>\n",
       "<tr>\n",
       "  <th>Method:</th>                  <td>Least Squares</td>       <th>  F-statistic:       </th> <td>   287.4</td>\n",
       "</tr>\n",
       "<tr>\n",
       "  <th>Date:</th>                  <td>Wed, 19 Apr 2023</td>      <th>  Prob (F-statistic):</th> <td>2.87e-99</td>\n",
       "</tr>\n",
       "<tr>\n",
       "  <th>Time:</th>                      <td>16:17:32</td>          <th>  Log-Likelihood:    </th> <td> -2321.5</td>\n",
       "</tr>\n",
       "<tr>\n",
       "  <th>No. Observations:</th>           <td>  1000</td>           <th>  AIC:               </th> <td>   4649.</td>\n",
       "</tr>\n",
       "<tr>\n",
       "  <th>Df Residuals:</th>               <td>   997</td>           <th>  BIC:               </th> <td>   4664.</td>\n",
       "</tr>\n",
       "<tr>\n",
       "  <th>Df Model:</th>                   <td>     2</td>           <th>                     </th>     <td> </td>   \n",
       "</tr>\n",
       "<tr>\n",
       "  <th>Covariance Type:</th>           <td>nonrobust</td>         <th>                     </th>     <td> </td>   \n",
       "</tr>\n",
       "</table>\n",
       "<table class=\"simpletable\">\n",
       "<tr>\n",
       "      <td></td>         <th>coef</th>     <th>std err</th>      <th>t</th>      <th>P>|t|</th>  <th>[0.025</th>    <th>0.975]</th>  \n",
       "</tr>\n",
       "<tr>\n",
       "  <th>Intercept</th> <td>   -0.0952</td> <td>    1.317</td> <td>   -0.072</td> <td> 0.942</td> <td>   -2.679</td> <td>    2.489</td>\n",
       "</tr>\n",
       "<tr>\n",
       "  <th>X1</th>        <td>   -0.2519</td> <td>    0.307</td> <td>   -0.820</td> <td> 0.413</td> <td>   -0.855</td> <td>    0.351</td>\n",
       "</tr>\n",
       "<tr>\n",
       "  <th>X2</th>        <td>    3.3157</td> <td>    0.156</td> <td>   21.281</td> <td> 0.000</td> <td>    3.010</td> <td>    3.621</td>\n",
       "</tr>\n",
       "</table>\n",
       "<table class=\"simpletable\">\n",
       "<tr>\n",
       "  <th>Omnibus:</th>       <td>676.037</td> <th>  Durbin-Watson:     </th> <td>   1.961</td> \n",
       "</tr>\n",
       "<tr>\n",
       "  <th>Prob(Omnibus):</th> <td> 0.000</td>  <th>  Jarque-Bera (JB):  </th> <td>15959.389</td>\n",
       "</tr>\n",
       "<tr>\n",
       "  <th>Skew:</th>          <td> 2.735</td>  <th>  Prob(JB):          </th> <td>    0.00</td> \n",
       "</tr>\n",
       "<tr>\n",
       "  <th>Kurtosis:</th>      <td>21.791</td>  <th>  Cond. No.          </th> <td>    82.2</td> \n",
       "</tr>\n",
       "</table><br/><br/>Notes:<br/>[1] Standard Errors assume that the covariance matrix of the errors is correctly specified."
      ],
      "text/plain": [
       "<class 'statsmodels.iolib.summary.Summary'>\n",
       "\"\"\"\n",
       "                                OLS Regression Results                                \n",
       "======================================================================================\n",
       "Dep. Variable:     np.sqrt(residuals_squared)   R-squared:                       0.366\n",
       "Model:                                    OLS   Adj. R-squared:                  0.364\n",
       "Method:                         Least Squares   F-statistic:                     287.4\n",
       "Date:                        Wed, 19 Apr 2023   Prob (F-statistic):           2.87e-99\n",
       "Time:                                16:17:32   Log-Likelihood:                -2321.5\n",
       "No. Observations:                        1000   AIC:                             4649.\n",
       "Df Residuals:                             997   BIC:                             4664.\n",
       "Df Model:                                   2                                         \n",
       "Covariance Type:                    nonrobust                                         \n",
       "==============================================================================\n",
       "                 coef    std err          t      P>|t|      [0.025      0.975]\n",
       "------------------------------------------------------------------------------\n",
       "Intercept     -0.0952      1.317     -0.072      0.942      -2.679       2.489\n",
       "X1            -0.2519      0.307     -0.820      0.413      -0.855       0.351\n",
       "X2             3.3157      0.156     21.281      0.000       3.010       3.621\n",
       "==============================================================================\n",
       "Omnibus:                      676.037   Durbin-Watson:                   1.961\n",
       "Prob(Omnibus):                  0.000   Jarque-Bera (JB):            15959.389\n",
       "Skew:                           2.735   Prob(JB):                         0.00\n",
       "Kurtosis:                      21.791   Cond. No.                         82.2\n",
       "==============================================================================\n",
       "\n",
       "Notes:\n",
       "[1] Standard Errors assume that the covariance matrix of the errors is correctly specified.\n",
       "\"\"\""
      ]
     },
     "execution_count": 15,
     "metadata": {},
     "output_type": "execute_result"
    }
   ],
   "source": [
    "results3 = smf.ols(formula = 'np.sqrt(residuals_squared) ~ X1 + X2', data = data).fit()\n",
    "results3.summary()"
   ]
  },
  {
   "cell_type": "markdown",
   "id": "16db7d75",
   "metadata": {},
   "source": [
    "#### Square fitted values to obtain h and define new data with \"weights\""
   ]
  },
  {
   "cell_type": "markdown",
   "id": "cfb3116b",
   "metadata": {},
   "source": [
    "- ${yh_2}$ = ${Y}$ / $\\sqrt{h}$\n",
    "- ${x_0h_2}$ = ${1}$ / $\\sqrt{h}$\n",
    "- ${x_1h_2}$ = ${X1}$ / $\\sqrt{h}$\n",
    "- ${x_2h_2}$ = ${X2}$ / $\\sqrt{h}$\n",
    "\n",
    "where ${h}$ = ${|u_i|^2}$"
   ]
  },
  {
   "cell_type": "code",
   "execution_count": 16,
   "id": "de0584bc",
   "metadata": {
    "scrolled": true
   },
   "outputs": [
    {
     "data": {
      "text/html": [
       "<div>\n",
       "<style scoped>\n",
       "    .dataframe tbody tr th:only-of-type {\n",
       "        vertical-align: middle;\n",
       "    }\n",
       "\n",
       "    .dataframe tbody tr th {\n",
       "        vertical-align: top;\n",
       "    }\n",
       "\n",
       "    .dataframe thead th {\n",
       "        text-align: right;\n",
       "    }\n",
       "</style>\n",
       "<table border=\"1\" class=\"dataframe\">\n",
       "  <thead>\n",
       "    <tr style=\"text-align: right;\">\n",
       "      <th></th>\n",
       "      <th>Y</th>\n",
       "      <th>X1</th>\n",
       "      <th>X2</th>\n",
       "      <th>residuals_squared</th>\n",
       "      <th>y_h</th>\n",
       "      <th>x0_h</th>\n",
       "      <th>x1_h</th>\n",
       "      <th>x2_h</th>\n",
       "      <th>y_h2</th>\n",
       "      <th>x0_h2</th>\n",
       "      <th>x1_h2</th>\n",
       "      <th>x2_h2</th>\n",
       "    </tr>\n",
       "  </thead>\n",
       "  <tbody>\n",
       "    <tr>\n",
       "      <th>0</th>\n",
       "      <td>11.404406</td>\n",
       "      <td>4.674510</td>\n",
       "      <td>1.944484</td>\n",
       "      <td>6.209030</td>\n",
       "      <td>2.491130</td>\n",
       "      <td>0.218436</td>\n",
       "      <td>1.021080</td>\n",
       "      <td>0.424745</td>\n",
       "      <td>2.204001</td>\n",
       "      <td>0.193259</td>\n",
       "      <td>0.903390</td>\n",
       "      <td>0.375789</td>\n",
       "    </tr>\n",
       "    <tr>\n",
       "      <th>1</th>\n",
       "      <td>21.327162</td>\n",
       "      <td>4.414127</td>\n",
       "      <td>1.692914</td>\n",
       "      <td>60.574919</td>\n",
       "      <td>7.129237</td>\n",
       "      <td>0.334280</td>\n",
       "      <td>1.475553</td>\n",
       "      <td>0.565907</td>\n",
       "      <td>4.840605</td>\n",
       "      <td>0.226969</td>\n",
       "      <td>1.001870</td>\n",
       "      <td>0.384239</td>\n",
       "    </tr>\n",
       "    <tr>\n",
       "      <th>2</th>\n",
       "      <td>15.885338</td>\n",
       "      <td>4.536565</td>\n",
       "      <td>0.059003</td>\n",
       "      <td>0.083415</td>\n",
       "      <td>109.848385</td>\n",
       "      <td>6.915080</td>\n",
       "      <td>31.370712</td>\n",
       "      <td>0.408008</td>\n",
       "      <td>15.238456</td>\n",
       "      <td>0.959278</td>\n",
       "      <td>4.351828</td>\n",
       "      <td>0.056600</td>\n",
       "    </tr>\n",
       "    <tr>\n",
       "      <th>3</th>\n",
       "      <td>19.178205</td>\n",
       "      <td>4.243829</td>\n",
       "      <td>1.780704</td>\n",
       "      <td>37.650177</td>\n",
       "      <td>5.318588</td>\n",
       "      <td>0.277325</td>\n",
       "      <td>1.176918</td>\n",
       "      <td>0.493833</td>\n",
       "      <td>4.046142</td>\n",
       "      <td>0.210976</td>\n",
       "      <td>0.895346</td>\n",
       "      <td>0.375686</td>\n",
       "    </tr>\n",
       "    <tr>\n",
       "      <th>4</th>\n",
       "      <td>13.889365</td>\n",
       "      <td>4.775771</td>\n",
       "      <td>1.307222</td>\n",
       "      <td>0.874793</td>\n",
       "      <td>9.966965</td>\n",
       "      <td>0.717597</td>\n",
       "      <td>3.427079</td>\n",
       "      <td>0.938058</td>\n",
       "      <td>4.574962</td>\n",
       "      <td>0.329386</td>\n",
       "      <td>1.573072</td>\n",
       "      <td>0.430580</td>\n",
       "    </tr>\n",
       "  </tbody>\n",
       "</table>\n",
       "</div>"
      ],
      "text/plain": [
       "           Y        X1        X2  residuals_squared         y_h      x0_h  \\\n",
       "0  11.404406  4.674510  1.944484           6.209030    2.491130  0.218436   \n",
       "1  21.327162  4.414127  1.692914          60.574919    7.129237  0.334280   \n",
       "2  15.885338  4.536565  0.059003           0.083415  109.848385  6.915080   \n",
       "3  19.178205  4.243829  1.780704          37.650177    5.318588  0.277325   \n",
       "4  13.889365  4.775771  1.307222           0.874793    9.966965  0.717597   \n",
       "\n",
       "        x1_h      x2_h       y_h2     x0_h2     x1_h2     x2_h2  \n",
       "0   1.021080  0.424745   2.204001  0.193259  0.903390  0.375789  \n",
       "1   1.475553  0.565907   4.840605  0.226969  1.001870  0.384239  \n",
       "2  31.370712  0.408008  15.238456  0.959278  4.351828  0.056600  \n",
       "3   1.176918  0.493833   4.046142  0.210976  0.895346  0.375686  \n",
       "4   3.427079  0.938058   4.574962  0.329386  1.573072  0.430580  "
      ]
     },
     "execution_count": 16,
     "metadata": {},
     "output_type": "execute_result"
    }
   ],
   "source": [
    "h2 = np.square(results3.fittedvalues)\n",
    "root_h2 = np.sqrt(h2)\n",
    "data['y_h2'] = np.divide(data['Y'],root_h2)\n",
    "data['x0_h2']= np.divide(1,root_h2)\n",
    "data['x1_h2']= np.divide(data['X1'],root_h2)\n",
    "data['x2_h2']= np.divide(data['X2'],root_h2)\n",
    "data.head()"
   ]
  },
  {
   "cell_type": "markdown",
   "id": "9d695b93",
   "metadata": {},
   "source": [
    "#### Estimate new regression without a constant"
   ]
  },
  {
   "cell_type": "code",
   "execution_count": 17,
   "id": "a27f7000",
   "metadata": {},
   "outputs": [
    {
     "data": {
      "text/html": [
       "<table class=\"simpletable\">\n",
       "<caption>OLS Regression Results</caption>\n",
       "<tr>\n",
       "  <th>Dep. Variable:</th>          <td>y_h2</td>       <th>  R-squared (uncentered):</th>      <td>   1.000</td> \n",
       "</tr>\n",
       "<tr>\n",
       "  <th>Model:</th>                   <td>OLS</td>       <th>  Adj. R-squared (uncentered):</th> <td>   1.000</td> \n",
       "</tr>\n",
       "<tr>\n",
       "  <th>Method:</th>             <td>Least Squares</td>  <th>  F-statistic:       </th>          <td>1.067e+08</td>\n",
       "</tr>\n",
       "<tr>\n",
       "  <th>Date:</th>             <td>Wed, 19 Apr 2023</td> <th>  Prob (F-statistic):</th>           <td>  0.00</td>  \n",
       "</tr>\n",
       "<tr>\n",
       "  <th>Time:</th>                 <td>16:17:32</td>     <th>  Log-Likelihood:    </th>          <td> -2894.6</td> \n",
       "</tr>\n",
       "<tr>\n",
       "  <th>No. Observations:</th>      <td>  1000</td>      <th>  AIC:               </th>          <td>   5795.</td> \n",
       "</tr>\n",
       "<tr>\n",
       "  <th>Df Residuals:</th>          <td>   997</td>      <th>  BIC:               </th>          <td>   5810.</td> \n",
       "</tr>\n",
       "<tr>\n",
       "  <th>Df Model:</th>              <td>     3</td>      <th>                     </th>              <td> </td>    \n",
       "</tr>\n",
       "<tr>\n",
       "  <th>Covariance Type:</th>      <td>nonrobust</td>    <th>                     </th>              <td> </td>    \n",
       "</tr>\n",
       "</table>\n",
       "<table class=\"simpletable\">\n",
       "<tr>\n",
       "    <td></td>       <th>coef</th>     <th>std err</th>      <th>t</th>      <th>P>|t|</th>  <th>[0.025</th>    <th>0.975]</th>  \n",
       "</tr>\n",
       "<tr>\n",
       "  <th>x0_h2</th> <td>   -6.3673</td> <td>    0.112</td> <td>  -56.948</td> <td> 0.000</td> <td>   -6.587</td> <td>   -6.148</td>\n",
       "</tr>\n",
       "<tr>\n",
       "  <th>x1_h2</th> <td>    4.9764</td> <td>    0.043</td> <td>  116.588</td> <td> 0.000</td> <td>    4.893</td> <td>    5.060</td>\n",
       "</tr>\n",
       "<tr>\n",
       "  <th>x2_h2</th> <td>   -2.1047</td> <td>    0.459</td> <td>   -4.581</td> <td> 0.000</td> <td>   -3.006</td> <td>   -1.203</td>\n",
       "</tr>\n",
       "</table>\n",
       "<table class=\"simpletable\">\n",
       "<tr>\n",
       "  <th>Omnibus:</th>       <td>643.858</td> <th>  Durbin-Watson:     </th>  <td>   1.975</td>  \n",
       "</tr>\n",
       "<tr>\n",
       "  <th>Prob(Omnibus):</th> <td> 0.000</td>  <th>  Jarque-Bera (JB):  </th> <td>1859429.056</td>\n",
       "</tr>\n",
       "<tr>\n",
       "  <th>Skew:</th>          <td> 1.244</td>  <th>  Prob(JB):          </th>  <td>    0.00</td>  \n",
       "</tr>\n",
       "<tr>\n",
       "  <th>Kurtosis:</th>      <td>214.235</td> <th>  Cond. No.          </th>  <td>2.49e+03</td>  \n",
       "</tr>\n",
       "</table><br/><br/>Notes:<br/>[1] R² is computed without centering (uncentered) since the model does not contain a constant.<br/>[2] Standard Errors assume that the covariance matrix of the errors is correctly specified.<br/>[3] The condition number is large, 2.49e+03. This might indicate that there are<br/>strong multicollinearity or other numerical problems."
      ],
      "text/plain": [
       "<class 'statsmodels.iolib.summary.Summary'>\n",
       "\"\"\"\n",
       "                                 OLS Regression Results                                \n",
       "=======================================================================================\n",
       "Dep. Variable:                   y_h2   R-squared (uncentered):                   1.000\n",
       "Model:                            OLS   Adj. R-squared (uncentered):              1.000\n",
       "Method:                 Least Squares   F-statistic:                          1.067e+08\n",
       "Date:                Wed, 19 Apr 2023   Prob (F-statistic):                        0.00\n",
       "Time:                        16:17:32   Log-Likelihood:                         -2894.6\n",
       "No. Observations:                1000   AIC:                                      5795.\n",
       "Df Residuals:                     997   BIC:                                      5810.\n",
       "Df Model:                           3                                                  \n",
       "Covariance Type:            nonrobust                                                  \n",
       "==============================================================================\n",
       "                 coef    std err          t      P>|t|      [0.025      0.975]\n",
       "------------------------------------------------------------------------------\n",
       "x0_h2         -6.3673      0.112    -56.948      0.000      -6.587      -6.148\n",
       "x1_h2          4.9764      0.043    116.588      0.000       4.893       5.060\n",
       "x2_h2         -2.1047      0.459     -4.581      0.000      -3.006      -1.203\n",
       "==============================================================================\n",
       "Omnibus:                      643.858   Durbin-Watson:                   1.975\n",
       "Prob(Omnibus):                  0.000   Jarque-Bera (JB):          1859429.056\n",
       "Skew:                           1.244   Prob(JB):                         0.00\n",
       "Kurtosis:                     214.235   Cond. No.                     2.49e+03\n",
       "==============================================================================\n",
       "\n",
       "Notes:\n",
       "[1] R² is computed without centering (uncentered) since the model does not contain a constant.\n",
       "[2] Standard Errors assume that the covariance matrix of the errors is correctly specified.\n",
       "[3] The condition number is large, 2.49e+03. This might indicate that there are\n",
       "strong multicollinearity or other numerical problems.\n",
       "\"\"\""
      ]
     },
     "execution_count": 17,
     "metadata": {},
     "output_type": "execute_result"
    }
   ],
   "source": [
    "results5 =  smf.ols(formula = 'y_h2 ~ x0_h2 + x1_h2 + x2_h2 - 1', data = data).fit()\n",
    "results5.summary()"
   ]
  },
  {
   "cell_type": "markdown",
   "id": "666a3919",
   "metadata": {},
   "source": [
    "#### 95% Confidence Interval\n",
    "\n",
    "The below table lists the confidence intervals for the beta coefficients for ${x_0h_2}$, ${x_1h_2}$, and ${x_2h_2}$.\n",
    "\n",
    "0 and 1 represent the lower and upper ends of the 95% confidence intervals, respectively."
   ]
  },
  {
   "cell_type": "code",
   "execution_count": 18,
   "id": "744cba47",
   "metadata": {},
   "outputs": [
    {
     "data": {
      "text/html": [
       "<div>\n",
       "<style scoped>\n",
       "    .dataframe tbody tr th:only-of-type {\n",
       "        vertical-align: middle;\n",
       "    }\n",
       "\n",
       "    .dataframe tbody tr th {\n",
       "        vertical-align: top;\n",
       "    }\n",
       "\n",
       "    .dataframe thead th {\n",
       "        text-align: right;\n",
       "    }\n",
       "</style>\n",
       "<table border=\"1\" class=\"dataframe\">\n",
       "  <thead>\n",
       "    <tr style=\"text-align: right;\">\n",
       "      <th></th>\n",
       "      <th>0</th>\n",
       "      <th>1</th>\n",
       "    </tr>\n",
       "  </thead>\n",
       "  <tbody>\n",
       "    <tr>\n",
       "      <th>x0_h2</th>\n",
       "      <td>-6.586668</td>\n",
       "      <td>-6.147856</td>\n",
       "    </tr>\n",
       "    <tr>\n",
       "      <th>x1_h2</th>\n",
       "      <td>4.892663</td>\n",
       "      <td>5.060184</td>\n",
       "    </tr>\n",
       "    <tr>\n",
       "      <th>x2_h2</th>\n",
       "      <td>-3.006421</td>\n",
       "      <td>-1.203060</td>\n",
       "    </tr>\n",
       "  </tbody>\n",
       "</table>\n",
       "</div>"
      ],
      "text/plain": [
       "              0         1\n",
       "x0_h2 -6.586668 -6.147856\n",
       "x1_h2  4.892663  5.060184\n",
       "x2_h2 -3.006421 -1.203060"
      ]
     },
     "execution_count": 18,
     "metadata": {},
     "output_type": "execute_result"
    }
   ],
   "source": [
    "results5.conf_int(alpha=0.05, cols=None)"
   ]
  },
  {
   "cell_type": "markdown",
   "id": "6be859c1",
   "metadata": {},
   "source": [
    "## <div class=\"alert alert-info\">3. Plot Residuals</div>"
   ]
  },
  {
   "cell_type": "markdown",
   "id": "4e5b3ded",
   "metadata": {},
   "source": [
    "When dealing with heteroskedasticity in regression models, it's often beneficial to plot the residuals early on to identify the pattern of variance. Typically, plotting the residuals against the independent variables or fitted values allows us to visually diagnose whether the variance is constant or changes systematically. If the spread of residuals appears to increase or decrease exponentially, it indicates exponential heteroskedasticity, which requires a specific approach to correct.\n",
    "\n",
    "In our example, we chose to address both squared and exponential heteroskedasticity to demonstrate how each case can be handled. Although it would be ideal to visualize the residuals before performing any corrective steps, we instead focus on the process of identifying and correcting the issue. At the end of our analysis, we plot the residuals to confirm the presence of exponential heteroskedasticity and show how the appropriate transformation effectively stabilizes the variance. By handling both cases, we provide a more comprehensive overview of how to address heteroskedasticity, regardless of its form.\n",
    "\n",
    "This approach not only highlights the flexibility of FGLS in correcting different patterns of variance but also reinforces the importance of visual diagnostics throughout the modeling process."
   ]
  },
  {
   "cell_type": "code",
   "execution_count": 19,
   "id": "a6f34f8c",
   "metadata": {},
   "outputs": [
    {
     "data": {
      "image/png": "[encoded data removed]",
      "text/plain": [
       "<Figure size 432x288 with 1 Axes>"
      ]
     },
     "metadata": {
      "needs_background": "light"
     },
     "output_type": "display_data"
    }
   ],
   "source": [
    "sns.residplot(x='X1', y='Y', data = data)\n",
    "plt.title('Residuals from Y regressed on X1')\n",
    "# Set y-axis label\n",
    "plt.ylabel('Residuals')\n",
    "plt.show()"
   ]
  },
  {
   "cell_type": "code",
   "execution_count": 20,
   "id": "74dfb3af",
   "metadata": {
    "scrolled": true
   },
   "outputs": [
    {
     "data": {
      "image/png": "[encoded data removed]",
      "text/plain": [
       "<Figure size 432x288 with 1 Axes>"
      ]
     },
     "metadata": {
      "needs_background": "light"
     },
     "output_type": "display_data"
    }
   ],
   "source": [
    "sns.residplot(x='X2', y='Y', data = data)\n",
    "plt.title('Residuals from Y regressed on X2')\n",
    "# Set y-axis label\n",
    "plt.ylabel('Residuals')\n",
    "plt.show()"
   ]
  },
  {
   "cell_type": "markdown",
   "id": "53af1e49",
   "metadata": {},
   "source": [
    "Looking at the residual plots, one can plausibly argue that the heteroskedasticity present in both plots are exponential to some degree; you can fit some sort of exponential curve to both residual plots.\n",
    "\n",
    "As a result, the logarithmic transformation of the squared residuals seems to be the best method of FGLS. This can also be corroborated through the confidence intervals of the beta coefficients produced from both the logarithmic and square methods. The 95% confidence intervals for the logarithmic method of FGLS are smaller than that of the square FGLS method. The smaller confidence intervals of the logarithmic method and the exponential shape of the residual plots supports the notion that the heteroskedasticity present in the data is exponential and that the logarithmic method seems to be the most appropriate method for obtaining FGLS \"weights\" for the data at hand."
   ]
  }
 ],
 "metadata": {
  "kernelspec": {
   "display_name": "Python 3 (ipykernel)",
   "language": "python",
   "name": "python3"
  },
  "language_info": {
   "codemirror_mode": {
    "name": "ipython",
    "version": 3
   },
   "file_extension": ".py",
   "mimetype": "text/x-python",
   "name": "python",
   "nbconvert_exporter": "python",
   "pygments_lexer": "ipython3",
   "version": "3.9.12"
  }
 },
 "nbformat": 4,
 "nbformat_minor": 5
}
